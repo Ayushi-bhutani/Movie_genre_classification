{
  "cells": [
    {
      "cell_type": "markdown",
      "metadata": {
        "id": "view-in-github",
        "colab_type": "text"
      },
      "source": [
        "<a href=\"https://colab.research.google.com/github/Ayushi-bhutani/Movie_genre_classification/blob/main/movie_genre.ipynb\" target=\"_parent\"><img src=\"https://colab.research.google.com/assets/colab-badge.svg\" alt=\"Open In Colab\"/></a>"
      ]
    },
    {
      "cell_type": "code",
      "execution_count": null,
      "metadata": {
        "colab": {
          "base_uri": "https://localhost:8080/"
        },
        "id": "TFi1aZpPyrg8",
        "outputId": "9542c9e5-1fa2-43f9-ed15-67519d27c12f"
      },
      "outputs": [
        {
          "output_type": "stream",
          "name": "stdout",
          "text": [
            "Sample lines from train_data.txt:\n",
            "1 ::: Oscar et la dame rose (2009) ::: drama ::: Listening in to a conversation between his doctor and parents, 10-year-old Oscar learns what nobody has the courage to tell him. He only has a few weeks to live. Furious, he refuses to speak to anyone except straight-talking Rose, the lady in pink he meets on the hospital stairs. As Christmas approaches, Rose uses her fantastical experiences as a professional wrestler, her imagination, wit and charm to allow Oscar to live life and love to the full, in the company of his friends Pop Corn, Einstein, Bacon and childhood sweetheart Peggy Blue.\n",
            "2 ::: Cupid (1997) ::: thriller ::: A brother and sister with a past incestuous relationship have a current murderous relationship. He murders the women who reject him and she murders the women who get too close to him.\n",
            "3 ::: Young, Wild and Wonderful (1980) ::: adult ::: As the bus empties the students for their field trip to the Museum of Natural History, little does the tour guide suspect that the students are there for more than just another tour. First, during the lecture films, the coeds drift into dreams of the most erotic fantasies one can imagine. After the films, they release the emotion of the fantasies in the most erotic and uncommon ways. One slips off to the curator's office for a little \"acquisition. \" Another finds the anthropologist to see what bones can be identified. Even the head teacher isn't immune. Soon the tour is over, but as the bus departs, everyone admits it was quite an education.\n",
            "4 ::: The Secret Sin (1915) ::: drama ::: To help their unemployed father make ends meet, Edith and her twin sister Grace work as seamstresses . An invalid, Grace falls prey to the temptations of Chinatown opium and becomes an addict, a condition worsened by a misguided physician who prescribes morphine to ease her pain. When their father strikes oil, the family enjoys a new prosperity and the sisters meet the eligible Jack Herron, a fellow oil prospector. To Grace's shock, Jack falls in love with Edith and in her jealousy, Grace tells Jack that Edith, not she, has a drug problem. Hinting that her sister will soon need more morphine, Grace arranges for a dinner in Chinatown with the couple. While her sister and Jack dance, Grace slips away to an opium den. Edith follows her, but ends up in the wrong den and is arrested in an ensuing drug raid. After he bails her out of jail, Edith takes an angry Jack to search for Grace and stumbles across her half-conscious body lying in the street. The truth about the sisters is revealed, and after sending Grace to a sanitarium in the country, Jack and Edith are married.\n",
            "5 ::: The Unrecovered (2007) ::: drama ::: The film's title refers not only to the un-recovered bodies at ground zero, but also to the state of the nation at large. Set in the hallucinatory period of time between September 11 and Halloween of 2001, The Unrecovered examines the effect of terror on the average mind, the way a state of heightened anxiety and/or alertness can cause the average person to make the sort of imaginative connections that are normally made only by artists and conspiracy theorists-both of whom figure prominently in this film. The Unrecovered explores the way in which irony, empathy, and paranoia relate to one another in the wake of 9/11.\n",
            "\n",
            "Sample lines from test_data.txt:\n",
            "1 ::: Edgar's Lunch (1998) ::: L.R. Brane loves his life - his car, his apartment, his job, but especially his girlfriend, Vespa. One day while showering, Vespa runs out of shampoo. L.R. runs across the street to a convenience store to buy some more, a quick trip of no more than a few minutes. When he returns, Vespa is gone and every trace of her existence has been wiped out. L.R.'s life becomes a tortured existence as one strange event after another occurs to confirm in his mind that a conspiracy is working against his finding Vespa.\n",
            "2 ::: La guerra de papá (1977) ::: Spain, March 1964: Quico is a very naughty child of three belonging to a wealthy middle-class family. Since Cristina's birth, he feels he has lost the privileged position of \"prince\" of the house for his eight months old sister. So, with his brother Juan, who is eight years old and is quite disobedient, spend their time committing prank after prank, causing the resulting anger of his mother, the nanny and the old housemaid. The rest of the family members are two much older brothers, his resigned mother and a retrograde father of authoritarian ideas. But many years have passed, and the civil war that won the despot Don Pablo is simply for their children \"Dad's war\".\n",
            "3 ::: Off the Beaten Track (2010) ::: One year in the life of Albin and his family of shepherds in the North of Transylvania. In direct cinema style, this documentary follows their day to day routines, and their struggle to adapt to a new world where traditions are gradually replaced by modern values. Since joining the EU, Romania has been facing, like several other Eastern European countries, the pressure of modern values, introducing in farmer's lives the cruel notion of competition, the temptation of migrating to the higher salaries abroad, and the marginalization of locally produced food against industrial products.\n",
            "4 ::: Meu Amigo Hindu (2015) ::: His father has died, he hasn't spoken with his brother for about 10 years and has a serious cancer. Diego is a talented film director with difficulty to deal with his sickness, which is making him lose his friends and family. His best friend and doctor Ricardo gives him the news that he needs a bone marrow transplantation, otherwise he'll die. He gets married to a beautiful woman, Livia, just before going to Seattle to get treatment. There, he undergoes numerous medical procedures. During treatment, he meets an Hindu boy, with whom he plays and whom he tells amazing stories. Odds are against him and when stakes are the highest, Diego gets a visit from a very uncommon man.\n",
            "5 ::: Er nu zhai (1955) ::: Before he was known internationally as a martial arts superstar, Bruce Lee had appeared in a handful of Hong Kong films as a child star in the 1940s/50s. One of these early films was The More the Merrier (1955), a.k.a. We Owe it to Our Children from the Union Film Enterprise, a family melodrama written and directed by renowned filmmaker Chin Chien (My Intimate Partners). Featuring the 14-year-old Bruce Lee and future Cantonese Opera star Yuen Siu Fai, the B&W film revolves around accountant Ming (played by Cheung Wood Yau) and his wife (Tsi Lo Lin) who suffers a miscarriage in an car accident. The couple decides to adopt a baby girl, not knowing that she's the daughter given up by Ming's poor co-worker who struggles to feed a bunch of kids. Bruce Lee plays the slacker son of the landlord (Ko Lo Chuen).\n",
            "\n",
            "Sample lines from test_data_solution.txt:\n",
            "1 ::: Edgar's Lunch (1998) ::: thriller ::: L.R. Brane loves his life - his car, his apartment, his job, but especially his girlfriend, Vespa. One day while showering, Vespa runs out of shampoo. L.R. runs across the street to a convenience store to buy some more, a quick trip of no more than a few minutes. When he returns, Vespa is gone and every trace of her existence has been wiped out. L.R.'s life becomes a tortured existence as one strange event after another occurs to confirm in his mind that a conspiracy is working against his finding Vespa.\n",
            "2 ::: La guerra de papá (1977) ::: comedy ::: Spain, March 1964: Quico is a very naughty child of three belonging to a wealthy middle-class family. Since Cristina's birth, he feels he has lost the privileged position of \"prince\" of the house for his eight months old sister. So, with his brother Juan, who is eight years old and is quite disobedient, spend their time committing prank after prank, causing the resulting anger of his mother, the nanny and the old housemaid. The rest of the family members are two much older brothers, his resigned mother and a retrograde father of authoritarian ideas. But many years have passed, and the civil war that won the despot Don Pablo is simply for their children \"Dad's war\".\n",
            "3 ::: Off the Beaten Track (2010) ::: documentary ::: One year in the life of Albin and his family of shepherds in the North of Transylvania. In direct cinema style, this documentary follows their day to day routines, and their struggle to adapt to a new world where traditions are gradually replaced by modern values. Since joining the EU, Romania has been facing, like several other Eastern European countries, the pressure of modern values, introducing in farmer's lives the cruel notion of competition, the temptation of migrating to the higher salaries abroad, and the marginalization of locally produced food against industrial products.\n",
            "4 ::: Meu Amigo Hindu (2015) ::: drama ::: His father has died, he hasn't spoken with his brother for about 10 years and has a serious cancer. Diego is a talented film director with difficulty to deal with his sickness, which is making him lose his friends and family. His best friend and doctor Ricardo gives him the news that he needs a bone marrow transplantation, otherwise he'll die. He gets married to a beautiful woman, Livia, just before going to Seattle to get treatment. There, he undergoes numerous medical procedures. During treatment, he meets an Hindu boy, with whom he plays and whom he tells amazing stories. Odds are against him and when stakes are the highest, Diego gets a visit from a very uncommon man.\n",
            "5 ::: Er nu zhai (1955) ::: drama ::: Before he was known internationally as a martial arts superstar, Bruce Lee had appeared in a handful of Hong Kong films as a child star in the 1940s/50s. One of these early films was The More the Merrier (1955), a.k.a. We Owe it to Our Children from the Union Film Enterprise, a family melodrama written and directed by renowned filmmaker Chin Chien (My Intimate Partners). Featuring the 14-year-old Bruce Lee and future Cantonese Opera star Yuen Siu Fai, the B&W film revolves around accountant Ming (played by Cheung Wood Yau) and his wife (Tsi Lo Lin) who suffers a miscarriage in an car accident. The couple decides to adopt a baby girl, not knowing that she's the daughter given up by Ming's poor co-worker who struggles to feed a bunch of kids. Bruce Lee plays the slacker son of the landlord (Ko Lo Chuen).\n"
          ]
        }
      ],
      "source": [
        "# Print a few lines from the text files to inspect the format\n",
        "def print_sample_lines(file_path, num_lines=5):\n",
        "    with open(file_path, 'r') as file:\n",
        "        for i in range(num_lines):\n",
        "            print(file.readline().strip())\n",
        "\n",
        "# Inspect sample lines from each file\n",
        "print(\"Sample lines from train_data.txt:\")\n",
        "print_sample_lines('train_data.txt')\n",
        "\n",
        "print(\"\\nSample lines from test_data.txt:\")\n",
        "print_sample_lines('test_data.txt')\n",
        "\n",
        "print(\"\\nSample lines from test_data_solution.txt:\")\n",
        "print_sample_lines('test_data_solution.txt')\n"
      ]
    },
    {
      "cell_type": "code",
      "execution_count": null,
      "metadata": {
        "colab": {
          "base_uri": "https://localhost:8080/"
        },
        "id": "YjqvcrhG_KLi",
        "outputId": "ae1fd848-ef99-44b9-d9d7-23cd0e2ce83b"
      },
      "outputs": [
        {
          "output_type": "stream",
          "name": "stdout",
          "text": [
            "Train Data Columns: Index(['index', 'title', 'genre', 'plot_summary'], dtype='object')\n",
            "Test Data Columns: Index(['index', 'title', 'genre', 'plot_summary'], dtype='object')\n",
            "Test Data Solution Columns: Index(['index', 'title', 'genre', 'plot_summary'], dtype='object')\n"
          ]
        }
      ],
      "source": [
        "import pandas as pd\n",
        "import nltk\n",
        "from nltk.corpus import stopwords\n",
        "from sklearn.feature_extraction.text import TfidfVectorizer\n",
        "from sklearn.naive_bayes import MultinomialNB\n",
        "from sklearn.linear_model import LogisticRegression\n",
        "from sklearn.svm import SVC\n",
        "from sklearn.metrics import accuracy_score, classification_report\n",
        "from sklearn.preprocessing import LabelEncoder\n",
        "import re\n",
        "\n",
        "# Load the dataset with error handling\n",
        "try:\n",
        "    df_train = pd.read_csv('train_data.csv', on_bad_lines='skip')\n",
        "    df_test = pd.read_csv('test_data.csv', on_bad_lines='skip')\n",
        "    df_test_solution = pd.read_csv('test_data_solution.csv', on_bad_lines='skip')\n",
        "except pd.errors.ParserError as e:\n",
        "    print(f\"Error reading CSV: {e}\")\n",
        "\n",
        "# Print column names to debug\n",
        "print(\"Train Data Columns:\", df_train.columns)\n",
        "print(\"Test Data Columns:\", df_test.columns)\n",
        "print(\"Test Data Solution Columns:\", df_test_solution.columns)\n",
        "\n"
      ]
    },
    {
      "cell_type": "code",
      "execution_count": null,
      "metadata": {
        "colab": {
          "base_uri": "https://localhost:8080/"
        },
        "id": "8yyI9tqXy4Ud",
        "outputId": "5b2e415b-4eca-47e9-cd58-c7b52d8ce362"
      },
      "outputs": [
        {
          "output_type": "stream",
          "name": "stdout",
          "text": [
            "Train Data Columns: Index(['index', 'title', 'genre', 'plot_summary'], dtype='object')\n",
            "  index                             title     genre  \\\n",
            "0     1      Oscar et la dame rose (2009)     drama   \n",
            "1     2                      Cupid (1997)  thriller   \n",
            "2     3  Young, Wild and Wonderful (1980)     adult   \n",
            "3     4             The Secret Sin (1915)     drama   \n",
            "4     5            The Unrecovered (2007)     drama   \n",
            "\n",
            "                                        plot_summary  \n",
            "0  Listening in to a conversation between his doc...  \n",
            "1  A brother and sister with a past incestuous re...  \n",
            "2  As the bus empties the students for their fiel...  \n",
            "3  To help their unemployed father make ends meet...  \n",
            "4  The film's title refers not only to the un-rec...  \n",
            "Test Data Columns: Index(['index', 'title', 'genre', 'plot_summary'], dtype='object')\n",
            "  index                        title  \\\n",
            "0     1         Edgar's Lunch (1998)   \n",
            "1     2     La guerra de papá (1977)   \n",
            "2     3  Off the Beaten Track (2010)   \n",
            "3     4       Meu Amigo Hindu (2015)   \n",
            "4     5            Er nu zhai (1955)   \n",
            "\n",
            "                                               genre plot_summary  \n",
            "0  L.R. Brane loves his life - his car, his apart...               \n",
            "1  Spain, March 1964: Quico is a very naughty chi...               \n",
            "2  One year in the life of Albin and his family o...               \n",
            "3  His father has died, he hasn't spoken with his...               \n",
            "4  Before he was known internationally as a marti...               \n",
            "Test Data Solution Columns: Index(['index', 'title', 'genre', 'plot_summary'], dtype='object')\n",
            "  index                        title        genre  \\\n",
            "0     1         Edgar's Lunch (1998)     thriller   \n",
            "1     2     La guerra de papá (1977)       comedy   \n",
            "2     3  Off the Beaten Track (2010)  documentary   \n",
            "3     4       Meu Amigo Hindu (2015)        drama   \n",
            "4     5            Er nu zhai (1955)        drama   \n",
            "\n",
            "                                        plot_summary  \n",
            "0  L.R. Brane loves his life - his car, his apart...  \n",
            "1  Spain, March 1964: Quico is a very naughty chi...  \n",
            "2  One year in the life of Albin and his family o...  \n",
            "3  His father has died, he hasn't spoken with his...  \n",
            "4  Before he was known internationally as a marti...  \n",
            "Files saved to train_data.csv, test_data.csv, and test_data_solution.csv\n"
          ]
        }
      ],
      "source": [
        "import pandas as pd\n",
        "\n",
        "# Define file paths\n",
        "train_data_txt_path = 'train_data.txt'\n",
        "test_data_txt_path = 'test_data.txt'\n",
        "test_data_solution_txt_path = 'test_data_solution.txt'\n",
        "\n",
        "# Process text files with robust splitting\n",
        "def process_file(file_path):\n",
        "    with open(file_path, 'r') as file:\n",
        "        lines = file.readlines()\n",
        "    data = []\n",
        "    for line in lines:\n",
        "        parts = line.strip().split(' ::: ', 3)  # Limit split to 4 parts\n",
        "        # Handle cases where fewer parts exist\n",
        "        if len(parts) < 4:\n",
        "            parts.extend([''] * (4 - len(parts)))\n",
        "        data.append(parts)\n",
        "    return pd.DataFrame(data, columns=['index', 'title', 'genre', 'plot_summary'])\n",
        "\n",
        "# Process files\n",
        "train_data = process_file(train_data_txt_path)\n",
        "test_data = process_file(test_data_txt_path)\n",
        "test_data_solution = process_file(test_data_solution_txt_path)\n",
        "\n",
        "# Print DataFrames to debug\n",
        "print(\"Train Data Columns:\", train_data.columns)\n",
        "print(train_data.head())\n",
        "\n",
        "print(\"Test Data Columns:\", test_data.columns)\n",
        "print(test_data.head())\n",
        "\n",
        "print(\"Test Data Solution Columns:\", test_data_solution.columns)\n",
        "print(test_data_solution.head())\n",
        "\n",
        "# Define output CSV file paths\n",
        "train_data_csv_path = 'train_data.csv'\n",
        "test_data_csv_path = 'test_data.csv'\n",
        "test_data_solution_csv_path = 'test_data_solution.csv'\n",
        "\n",
        "# Save DataFrame to CSV\n",
        "train_data.to_csv(train_data_csv_path, index=False)\n",
        "test_data.to_csv(test_data_csv_path, index=False)\n",
        "test_data_solution.to_csv(test_data_solution_csv_path, index=False)\n",
        "\n",
        "print(f'Files saved to {train_data_csv_path}, {test_data_csv_path}, and {test_data_solution_csv_path}')\n"
      ]
    },
    {
      "cell_type": "code",
      "execution_count": null,
      "metadata": {
        "colab": {
          "base_uri": "https://localhost:8080/"
        },
        "id": "2yd47FM-HktV",
        "outputId": "a85a9145-3b40-41b6-9ff9-551ae17528fa"
      },
      "outputs": [
        {
          "output_type": "stream",
          "name": "stdout",
          "text": [
            "Inspecting saved train_data.csv:\n",
            "   index                             title     genre  \\\n",
            "0      1      Oscar et la dame rose (2009)     drama   \n",
            "1      2                      Cupid (1997)  thriller   \n",
            "2      3  Young, Wild and Wonderful (1980)     adult   \n",
            "3      4             The Secret Sin (1915)     drama   \n",
            "4      5            The Unrecovered (2007)     drama   \n",
            "\n",
            "                                        plot_summary  \n",
            "0  Listening in to a conversation between his doc...  \n",
            "1  A brother and sister with a past incestuous re...  \n",
            "2  As the bus empties the students for their fiel...  \n",
            "3  To help their unemployed father make ends meet...  \n",
            "4  The film's title refers not only to the un-rec...  \n",
            "\n",
            "Inspecting saved test_data.csv:\n",
            "   index                        title  \\\n",
            "0      1         Edgar's Lunch (1998)   \n",
            "1      2     La guerra de papá (1977)   \n",
            "2      3  Off the Beaten Track (2010)   \n",
            "3      4       Meu Amigo Hindu (2015)   \n",
            "4      5            Er nu zhai (1955)   \n",
            "\n",
            "                                               genre  plot_summary  \n",
            "0  L.R. Brane loves his life - his car, his apart...           NaN  \n",
            "1  Spain, March 1964: Quico is a very naughty chi...           NaN  \n",
            "2  One year in the life of Albin and his family o...           NaN  \n",
            "3  His father has died, he hasn't spoken with his...           NaN  \n",
            "4  Before he was known internationally as a marti...           NaN  \n",
            "\n",
            "Inspecting saved test_data_solution.csv:\n",
            "   index                        title        genre  \\\n",
            "0      1         Edgar's Lunch (1998)     thriller   \n",
            "1      2     La guerra de papá (1977)       comedy   \n",
            "2      3  Off the Beaten Track (2010)  documentary   \n",
            "3      4       Meu Amigo Hindu (2015)        drama   \n",
            "4      5            Er nu zhai (1955)        drama   \n",
            "\n",
            "                                        plot_summary  \n",
            "0  L.R. Brane loves his life - his car, his apart...  \n",
            "1  Spain, March 1964: Quico is a very naughty chi...  \n",
            "2  One year in the life of Albin and his family o...  \n",
            "3  His father has died, he hasn't spoken with his...  \n",
            "4  Before he was known internationally as a marti...  \n"
          ]
        }
      ],
      "source": [
        "# Inspect saved CSV files\n",
        "print(\"Inspecting saved train_data.csv:\")\n",
        "df_train = pd.read_csv('train_data.csv')\n",
        "print(df_train.head())\n",
        "\n",
        "print(\"\\nInspecting saved test_data.csv:\")\n",
        "df_test = pd.read_csv('test_data.csv')\n",
        "print(df_test.head())\n",
        "\n",
        "print(\"\\nInspecting saved test_data_solution.csv:\")\n",
        "df_test_solution = pd.read_csv('test_data_solution.csv')\n",
        "print(df_test_solution.head())\n"
      ]
    },
    {
      "cell_type": "code",
      "execution_count": null,
      "metadata": {
        "colab": {
          "base_uri": "https://localhost:8080/"
        },
        "id": "sXVCzjz_z91l",
        "outputId": "0c82f6b2-020c-4b64-a77d-1be8634d0041"
      },
      "outputs": [
        {
          "output_type": "stream",
          "name": "stderr",
          "text": [
            "[nltk_data] Downloading package stopwords to /root/nltk_data...\n",
            "[nltk_data]   Unzipping corpora/stopwords.zip.\n"
          ]
        }
      ],
      "source": [
        "nltk.download('stopwords')\n",
        "stop_words = set(stopwords.words('english'))\n",
        "\n",
        "\n",
        "\n"
      ]
    },
    {
      "cell_type": "code",
      "execution_count": null,
      "metadata": {
        "id": "15lqzLAb2AJN"
      },
      "outputs": [],
      "source": [
        "if 'plot_summary' not in df_train.columns or 'genre' not in df_train.columns:\n",
        "    print(\"Required columns are missing in the training data.\")\n",
        "    exit()\n",
        "if 'plot_summary' not in df_test.columns:\n",
        "    print(\"Required columns are missing in the test data.\")\n",
        "    exit()\n",
        "if 'genre' not in df_test_solution.columns:\n",
        "    print(\"Required columns are missing in the test solution data.\")\n",
        "    exit()"
      ]
    },
    {
      "cell_type": "code",
      "execution_count": null,
      "metadata": {
        "colab": {
          "base_uri": "https://localhost:8080/"
        },
        "id": "GaaGzEt7Drvp",
        "outputId": "3567be65-25e6-4fb1-c7d1-9f34afc92e06"
      },
      "outputs": [
        {
          "output_type": "stream",
          "name": "stdout",
          "text": [
            "Train Data Columns: Index(['index', 'title', 'genre', 'plot_summary'], dtype='object')\n",
            "  index                             title     genre  \\\n",
            "0     1      Oscar et la dame rose (2009)     drama   \n",
            "1     2                      Cupid (1997)  thriller   \n",
            "2     3  Young, Wild and Wonderful (1980)     adult   \n",
            "3     4             The Secret Sin (1915)     drama   \n",
            "4     5            The Unrecovered (2007)     drama   \n",
            "\n",
            "                                        plot_summary  \n",
            "0  Listening in to a conversation between his doc...  \n",
            "1  A brother and sister with a past incestuous re...  \n",
            "2  As the bus empties the students for their fiel...  \n",
            "3  To help their unemployed father make ends meet...  \n",
            "4  The film's title refers not only to the un-rec...  \n",
            "Test Data Columns: Index(['index', 'title', 'genre', 'plot_summary'], dtype='object')\n",
            "  index                        title  \\\n",
            "0     1         Edgar's Lunch (1998)   \n",
            "1     2     La guerra de papá (1977)   \n",
            "2     3  Off the Beaten Track (2010)   \n",
            "3     4       Meu Amigo Hindu (2015)   \n",
            "4     5            Er nu zhai (1955)   \n",
            "\n",
            "                                               genre plot_summary  \n",
            "0  L.R. Brane loves his life - his car, his apart...               \n",
            "1  Spain, March 1964: Quico is a very naughty chi...               \n",
            "2  One year in the life of Albin and his family o...               \n",
            "3  His father has died, he hasn't spoken with his...               \n",
            "4  Before he was known internationally as a marti...               \n",
            "Test Data Solution Columns: Index(['index', 'title', 'genre', 'plot_summary'], dtype='object')\n",
            "  index                        title        genre  \\\n",
            "0     1         Edgar's Lunch (1998)     thriller   \n",
            "1     2     La guerra de papá (1977)       comedy   \n",
            "2     3  Off the Beaten Track (2010)  documentary   \n",
            "3     4       Meu Amigo Hindu (2015)        drama   \n",
            "4     5            Er nu zhai (1955)        drama   \n",
            "\n",
            "                                        plot_summary  \n",
            "0  L.R. Brane loves his life - his car, his apart...  \n",
            "1  Spain, March 1964: Quico is a very naughty chi...  \n",
            "2  One year in the life of Albin and his family o...  \n",
            "3  His father has died, he hasn't spoken with his...  \n",
            "4  Before he was known internationally as a marti...  \n"
          ]
        }
      ],
      "source": [
        "print(\"Train Data Columns:\", train_data.columns)\n",
        "print(train_data.head())\n",
        "\n",
        "print(\"Test Data Columns:\", test_data.columns)\n",
        "print(test_data.head())\n",
        "\n",
        "print(\"Test Data Solution Columns:\", test_data_solution.columns)\n",
        "print(test_data_solution.head())"
      ]
    },
    {
      "cell_type": "code",
      "execution_count": null,
      "metadata": {
        "id": "dLRLaVcx2fCi"
      },
      "outputs": [],
      "source": [
        "def preprocess_text(text):\n",
        "    text = re.sub(r'\\b\\w{1,2}\\b', '', text)  # Remove short words\n",
        "    text = re.sub(r'\\s+', ' ', text)  # Replace multiple spaces with a single space\n",
        "    return text"
      ]
    },
    {
      "cell_type": "code",
      "execution_count": null,
      "metadata": {
        "id": "VC6vnq4rINLD"
      },
      "outputs": [],
      "source": [
        "required_columns = ['plot_summary', 'genre']"
      ]
    },
    {
      "cell_type": "code",
      "execution_count": null,
      "metadata": {
        "id": "C357EfNQIGaj"
      },
      "outputs": [],
      "source": [
        "# Convert all values to strings and fill missing values with an empty string\n",
        "df_train['plot_summary'] = df_train['plot_summary'].astype(str).fillna('')\n",
        "df_test['plot_summary'] = df_test['plot_summary'].astype(str).fillna('')\n"
      ]
    },
    {
      "cell_type": "code",
      "source": [
        "# Identify rows with non-string types or NaNs\n",
        "non_string_train = df_train[df_train['plot_summary'].apply(lambda x: not isinstance(x, str))]\n",
        "non_string_test = df_test[df_test['plot_summary'].apply(lambda x: not isinstance(x, str))]\n",
        "\n",
        "print(\"Non-string entries in train data:\\n\", non_string_train)\n",
        "print(\"Non-string entries in test data:\\n\", non_string_test)\n"
      ],
      "metadata": {
        "colab": {
          "base_uri": "https://localhost:8080/"
        },
        "id": "dAYejfk9CTHs",
        "outputId": "1ab3cf91-6fb8-467e-f1b9-f262934828cb"
      },
      "execution_count": null,
      "outputs": [
        {
          "output_type": "stream",
          "name": "stdout",
          "text": [
            "Non-string entries in train data:\n",
            " Empty DataFrame\n",
            "Columns: [index, title, genre, plot_summary]\n",
            "Index: []\n",
            "Non-string entries in test data:\n",
            " Empty DataFrame\n",
            "Columns: [index, title, genre, plot_summary]\n",
            "Index: []\n"
          ]
        }
      ]
    },
    {
      "cell_type": "code",
      "source": [
        "def preprocess_text(text):\n",
        "    if isinstance(text, str):\n",
        "        text = re.sub(r'\\b\\w{1,2}\\b', '', text)  # Remove short words\n",
        "        text = re.sub(r'\\s+', ' ', text)  # Replace multiple spaces with a single space\n",
        "        return text.strip()\n",
        "    return \"\"\n",
        "\n",
        "# Apply preprocessing\n",
        "df_train['plot_summary'] = df_train['plot_summary'].apply(preprocess_text)\n",
        "df_test['plot_summary'] = df_test['plot_summary'].apply(preprocess_text)\n"
      ],
      "metadata": {
        "id": "8SGj1gmICZeW"
      },
      "execution_count": null,
      "outputs": []
    },
    {
      "cell_type": "code",
      "source": [
        "tfidf_vectorizer = TfidfVectorizer(stop_words=stop_words_list, max_features=5000, ngram_range=(1, 2))\n",
        "X_train_tfidf = tfidf_vectorizer.fit_transform(df_train['plot_summary'])\n",
        "X_test_tfidf = tfidf_vectorizer.transform(df_test['plot_summary'])"
      ],
      "metadata": {
        "id": "jmuo4fQiCwxY"
      },
      "execution_count": null,
      "outputs": []
    },
    {
      "cell_type": "code",
      "source": [
        "from nltk.stem import WordNetLemmatizer\n",
        "from nltk.tokenize import word_tokenize\n",
        "from nltk.corpus import wordnet\n",
        "\n",
        "lemmatizer = WordNetLemmatizer()\n",
        "\n",
        "def get_wordnet_pos(treebank_tag):\n",
        "    if treebank_tag.startswith('J'):\n",
        "        return wordnet.ADJ\n",
        "    elif treebank_tag.startswith('V'):\n",
        "        return wordnet.VERB\n",
        "    elif treebank_tag.startswith('N'):\n",
        "        return wordnet.NOUN\n",
        "    elif treebank_tag.startswith('R'):\n",
        "        return wordnet.ADV\n",
        "    else:\n",
        "        return wordnet.NOUN\n",
        "\n",
        "def preprocess_text(text):\n",
        "    if isinstance(text, str):\n",
        "        text = text.lower()  # Convert to lowercase\n",
        "        text = re.sub(r'\\b\\w{1,2}\\b', '', text)  # Remove short words\n",
        "        text = re.sub(r'\\s+', ' ', text)  # Replace multiple spaces with a single space\n",
        "        tokens = word_tokenize(text)\n",
        "        tokens = [lemmatizer.lemmatize(token, get_wordnet_pos(tag)) for token, tag in nltk.pos_tag(tokens)]\n",
        "        text = ' '.join(tokens)\n",
        "    return text\n"
      ],
      "metadata": {
        "id": "bqn2nv2w5af_"
      },
      "execution_count": null,
      "outputs": []
    },
    {
      "cell_type": "code",
      "source": [
        "label_encoder = LabelEncoder()\n",
        "y_train_encoded = label_encoder.fit_transform(df_train['genre'])\n",
        "y_test_encoded = label_encoder.transform(df_test_solution['genre'])  # Encode test labels\n"
      ],
      "metadata": {
        "id": "DYYP6hYPDLAA"
      },
      "execution_count": null,
      "outputs": []
    },
    {
      "cell_type": "code",
      "source": [
        "nb_model = MultinomialNB()\n",
        "param_grid = {'alpha': [0.1, 0.5, 1.0, 5.0, 10.0]}\n",
        "grid_search = GridSearchCV(nb_model, param_grid, cv=5, scoring='accuracy')"
      ],
      "metadata": {
        "id": "_uQjq3LRDOrc"
      },
      "execution_count": null,
      "outputs": []
    },
    {
      "cell_type": "code",
      "source": [
        "grid_search.fit(X_train_tfidf, y_train_encoded)"
      ],
      "metadata": {
        "colab": {
          "base_uri": "https://localhost:8080/",
          "height": 116
        },
        "id": "_vfH7VgxDR26",
        "outputId": "754e3957-dfd1-4dac-b1ea-9ce8d95b2cdb"
      },
      "execution_count": null,
      "outputs": [
        {
          "output_type": "execute_result",
          "data": {
            "text/plain": [
              "GridSearchCV(cv=5, estimator=MultinomialNB(),\n",
              "             param_grid={'alpha': [0.1, 0.5, 1.0, 5.0, 10.0]},\n",
              "             scoring='accuracy')"
            ],
            "text/html": [
              "<style>#sk-container-id-1 {color: black;}#sk-container-id-1 pre{padding: 0;}#sk-container-id-1 div.sk-toggleable {background-color: white;}#sk-container-id-1 label.sk-toggleable__label {cursor: pointer;display: block;width: 100%;margin-bottom: 0;padding: 0.3em;box-sizing: border-box;text-align: center;}#sk-container-id-1 label.sk-toggleable__label-arrow:before {content: \"▸\";float: left;margin-right: 0.25em;color: #696969;}#sk-container-id-1 label.sk-toggleable__label-arrow:hover:before {color: black;}#sk-container-id-1 div.sk-estimator:hover label.sk-toggleable__label-arrow:before {color: black;}#sk-container-id-1 div.sk-toggleable__content {max-height: 0;max-width: 0;overflow: hidden;text-align: left;background-color: #f0f8ff;}#sk-container-id-1 div.sk-toggleable__content pre {margin: 0.2em;color: black;border-radius: 0.25em;background-color: #f0f8ff;}#sk-container-id-1 input.sk-toggleable__control:checked~div.sk-toggleable__content {max-height: 200px;max-width: 100%;overflow: auto;}#sk-container-id-1 input.sk-toggleable__control:checked~label.sk-toggleable__label-arrow:before {content: \"▾\";}#sk-container-id-1 div.sk-estimator input.sk-toggleable__control:checked~label.sk-toggleable__label {background-color: #d4ebff;}#sk-container-id-1 div.sk-label input.sk-toggleable__control:checked~label.sk-toggleable__label {background-color: #d4ebff;}#sk-container-id-1 input.sk-hidden--visually {border: 0;clip: rect(1px 1px 1px 1px);clip: rect(1px, 1px, 1px, 1px);height: 1px;margin: -1px;overflow: hidden;padding: 0;position: absolute;width: 1px;}#sk-container-id-1 div.sk-estimator {font-family: monospace;background-color: #f0f8ff;border: 1px dotted black;border-radius: 0.25em;box-sizing: border-box;margin-bottom: 0.5em;}#sk-container-id-1 div.sk-estimator:hover {background-color: #d4ebff;}#sk-container-id-1 div.sk-parallel-item::after {content: \"\";width: 100%;border-bottom: 1px solid gray;flex-grow: 1;}#sk-container-id-1 div.sk-label:hover label.sk-toggleable__label {background-color: #d4ebff;}#sk-container-id-1 div.sk-serial::before {content: \"\";position: absolute;border-left: 1px solid gray;box-sizing: border-box;top: 0;bottom: 0;left: 50%;z-index: 0;}#sk-container-id-1 div.sk-serial {display: flex;flex-direction: column;align-items: center;background-color: white;padding-right: 0.2em;padding-left: 0.2em;position: relative;}#sk-container-id-1 div.sk-item {position: relative;z-index: 1;}#sk-container-id-1 div.sk-parallel {display: flex;align-items: stretch;justify-content: center;background-color: white;position: relative;}#sk-container-id-1 div.sk-item::before, #sk-container-id-1 div.sk-parallel-item::before {content: \"\";position: absolute;border-left: 1px solid gray;box-sizing: border-box;top: 0;bottom: 0;left: 50%;z-index: -1;}#sk-container-id-1 div.sk-parallel-item {display: flex;flex-direction: column;z-index: 1;position: relative;background-color: white;}#sk-container-id-1 div.sk-parallel-item:first-child::after {align-self: flex-end;width: 50%;}#sk-container-id-1 div.sk-parallel-item:last-child::after {align-self: flex-start;width: 50%;}#sk-container-id-1 div.sk-parallel-item:only-child::after {width: 0;}#sk-container-id-1 div.sk-dashed-wrapped {border: 1px dashed gray;margin: 0 0.4em 0.5em 0.4em;box-sizing: border-box;padding-bottom: 0.4em;background-color: white;}#sk-container-id-1 div.sk-label label {font-family: monospace;font-weight: bold;display: inline-block;line-height: 1.2em;}#sk-container-id-1 div.sk-label-container {text-align: center;}#sk-container-id-1 div.sk-container {/* jupyter's `normalize.less` sets `[hidden] { display: none; }` but bootstrap.min.css set `[hidden] { display: none !important; }` so we also need the `!important` here to be able to override the default hidden behavior on the sphinx rendered scikit-learn.org. See: https://github.com/scikit-learn/scikit-learn/issues/21755 */display: inline-block !important;position: relative;}#sk-container-id-1 div.sk-text-repr-fallback {display: none;}</style><div id=\"sk-container-id-1\" class=\"sk-top-container\"><div class=\"sk-text-repr-fallback\"><pre>GridSearchCV(cv=5, estimator=MultinomialNB(),\n",
              "             param_grid={&#x27;alpha&#x27;: [0.1, 0.5, 1.0, 5.0, 10.0]},\n",
              "             scoring=&#x27;accuracy&#x27;)</pre><b>In a Jupyter environment, please rerun this cell to show the HTML representation or trust the notebook. <br />On GitHub, the HTML representation is unable to render, please try loading this page with nbviewer.org.</b></div><div class=\"sk-container\" hidden><div class=\"sk-item sk-dashed-wrapped\"><div class=\"sk-label-container\"><div class=\"sk-label sk-toggleable\"><input class=\"sk-toggleable__control sk-hidden--visually\" id=\"sk-estimator-id-1\" type=\"checkbox\" ><label for=\"sk-estimator-id-1\" class=\"sk-toggleable__label sk-toggleable__label-arrow\">GridSearchCV</label><div class=\"sk-toggleable__content\"><pre>GridSearchCV(cv=5, estimator=MultinomialNB(),\n",
              "             param_grid={&#x27;alpha&#x27;: [0.1, 0.5, 1.0, 5.0, 10.0]},\n",
              "             scoring=&#x27;accuracy&#x27;)</pre></div></div></div><div class=\"sk-parallel\"><div class=\"sk-parallel-item\"><div class=\"sk-item\"><div class=\"sk-label-container\"><div class=\"sk-label sk-toggleable\"><input class=\"sk-toggleable__control sk-hidden--visually\" id=\"sk-estimator-id-2\" type=\"checkbox\" ><label for=\"sk-estimator-id-2\" class=\"sk-toggleable__label sk-toggleable__label-arrow\">estimator: MultinomialNB</label><div class=\"sk-toggleable__content\"><pre>MultinomialNB()</pre></div></div></div><div class=\"sk-serial\"><div class=\"sk-item\"><div class=\"sk-estimator sk-toggleable\"><input class=\"sk-toggleable__control sk-hidden--visually\" id=\"sk-estimator-id-3\" type=\"checkbox\" ><label for=\"sk-estimator-id-3\" class=\"sk-toggleable__label sk-toggleable__label-arrow\">MultinomialNB</label><div class=\"sk-toggleable__content\"><pre>MultinomialNB()</pre></div></div></div></div></div></div></div></div></div></div>"
            ]
          },
          "metadata": {},
          "execution_count": 23
        }
      ]
    },
    {
      "cell_type": "code",
      "source": [
        "from sklearn.model_selection import GridSearchCV\n",
        "\n",
        "# Example for Naive Bayes\n",
        "nb_model = MultinomialNB()\n",
        "param_grid = {'alpha': [0.1, 0.5, 1.0, 5.0, 10.0]}\n",
        "grid_search = GridSearchCV(nb_model, param_grid, cv=5, scoring='accuracy')\n",
        "grid_search.fit(X_train_tfidf, y_train_encoded)\n",
        "\n",
        "print(f'Best parameters for Naive Bayes: {grid_search.best_params_}')\n",
        "print(f'Best cross-validation score: {grid_search.best_score_}')\n",
        "\n",
        "best_nb_model = grid_search.best_estimator_\n",
        "nb_pred = best_nb_model.predict(X_test_tfidf)\n",
        "print(\"Naive Bayes Accuracy with Grid Search:\")\n",
        "print(accuracy_score(y_test_encoded, nb_pred))\n",
        "print(classification_report(y_test_encoded, nb_pred, target_names=label_encoder.classes_))\n"
      ],
      "metadata": {
        "colab": {
          "base_uri": "https://localhost:8080/"
        },
        "id": "0CUNLDws6R5t",
        "outputId": "f0c33d26-d781-4250-ce36-e35baed04710"
      },
      "execution_count": null,
      "outputs": [
        {
          "output_type": "stream",
          "name": "stdout",
          "text": [
            "Best parameters for Naive Bayes: {'alpha': 0.1}\n",
            "Best cross-validation score: 0.5622348339023289\n",
            "Naive Bayes Accuracy with Grid Search:\n",
            "0.2511439114391144\n",
            "              precision    recall  f1-score   support\n",
            "\n",
            "      action       0.00      0.00      0.00      1314\n",
            "       adult       0.00      0.00      0.00       590\n",
            "   adventure       0.00      0.00      0.00       775\n",
            "   animation       0.00      0.00      0.00       498\n",
            "   biography       0.00      0.00      0.00       264\n",
            "      comedy       0.00      0.00      0.00      7446\n",
            "       crime       0.00      0.00      0.00       505\n",
            " documentary       0.00      0.00      0.00     13096\n",
            "       drama       0.25      1.00      0.40     13612\n",
            "      family       0.00      0.00      0.00       783\n",
            "     fantasy       0.00      0.00      0.00       322\n",
            "   game-show       0.00      0.00      0.00       193\n",
            "     history       0.00      0.00      0.00       243\n",
            "      horror       0.00      0.00      0.00      2204\n",
            "       music       0.00      0.00      0.00       731\n",
            "     musical       0.00      0.00      0.00       276\n",
            "     mystery       0.00      0.00      0.00       318\n",
            "        news       0.00      0.00      0.00       181\n",
            "  reality-tv       0.00      0.00      0.00       883\n",
            "     romance       0.00      0.00      0.00       672\n",
            "      sci-fi       0.00      0.00      0.00       646\n",
            "       short       0.00      0.00      0.00      5072\n",
            "       sport       0.00      0.00      0.00       431\n",
            "   talk-show       0.00      0.00      0.00       391\n",
            "    thriller       0.00      0.00      0.00      1590\n",
            "         war       0.00      0.00      0.00       132\n",
            "     western       0.00      0.00      0.00      1032\n",
            "\n",
            "    accuracy                           0.25     54200\n",
            "   macro avg       0.01      0.04      0.01     54200\n",
            "weighted avg       0.06      0.25      0.10     54200\n",
            "\n"
          ]
        },
        {
          "output_type": "stream",
          "name": "stderr",
          "text": [
            "/usr/local/lib/python3.10/dist-packages/sklearn/metrics/_classification.py:1471: UndefinedMetricWarning: Precision and F-score are ill-defined and being set to 0.0 in labels with no predicted samples. Use `zero_division` parameter to control this behavior.\n",
            "  _warn_prf(average, modifier, msg_start, len(result))\n",
            "/usr/local/lib/python3.10/dist-packages/sklearn/metrics/_classification.py:1471: UndefinedMetricWarning: Precision and F-score are ill-defined and being set to 0.0 in labels with no predicted samples. Use `zero_division` parameter to control this behavior.\n",
            "  _warn_prf(average, modifier, msg_start, len(result))\n",
            "/usr/local/lib/python3.10/dist-packages/sklearn/metrics/_classification.py:1471: UndefinedMetricWarning: Precision and F-score are ill-defined and being set to 0.0 in labels with no predicted samples. Use `zero_division` parameter to control this behavior.\n",
            "  _warn_prf(average, modifier, msg_start, len(result))\n"
          ]
        }
      ]
    }
  ],
  "metadata": {
    "colab": {
      "provenance": [],
      "authorship_tag": "ABX9TyOOw69W0wQyAOEY6IqshyTW",
      "include_colab_link": true
    },
    "kernelspec": {
      "display_name": "Python 3",
      "name": "python3"
    },
    "language_info": {
      "name": "python"
    }
  },
  "nbformat": 4,
  "nbformat_minor": 0
}